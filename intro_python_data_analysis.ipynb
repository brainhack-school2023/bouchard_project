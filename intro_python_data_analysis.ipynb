{
 "cells": [
  {
   "attachments": {},
   "cell_type": "markdown",
   "metadata": {},
   "source": [
    "# Introduction to Python for data analysis\n",
    "By Louis-François Bouchard"
   ]
  },
  {
   "attachments": {},
   "cell_type": "markdown",
   "metadata": {},
   "source": [
    "## Imports and Dataset Exploration"
   ]
  },
  {
   "cell_type": "code",
   "execution_count": 1,
   "metadata": {},
   "outputs": [],
   "source": [
    "# imports \n",
    "import pandas as pd\n",
    "import numpy as np\n",
    "import matplotlib.pyplot as plt\n",
    "from sklearn.datasets import load_iris\n",
    "%matplotlib inline"
   ]
  },
  {
   "cell_type": "code",
   "execution_count": 2,
   "metadata": {},
   "outputs": [],
   "source": [
    "# Load the dataset\n",
    "iris = load_iris()"
   ]
  },
  {
   "cell_type": "code",
   "execution_count": 6,
   "metadata": {},
   "outputs": [
    {
     "name": "stdout",
     "output_type": "stream",
     "text": [
      "Dataset keys: dict_keys(['data', 'target', 'frame', 'target_names', 'DESCR', 'feature_names', 'filename', 'data_module'])\n",
      "\n",
      "Shape of our data: (150, 4)\n",
      "\n",
      "Labels for our samples: [0 0 0 0 0 0 0 0 0 0 0 0 0 0 0 0 0 0 0 0 0 0 0 0 0 0 0 0 0 0 0 0 0 0 0 0 0\n",
      " 0 0 0 0 0 0 0 0 0 0 0 0 0 1 1 1 1 1 1 1 1 1 1 1 1 1 1 1 1 1 1 1 1 1 1 1 1\n",
      " 1 1 1 1 1 1 1 1 1 1 1 1 1 1 1 1 1 1 1 1 1 1 1 1 1 1 2 2 2 2 2 2 2 2 2 2 2\n",
      " 2 2 2 2 2 2 2 2 2 2 2 2 2 2 2 2 2 2 2 2 2 2 2 2 2 2 2 2 2 2 2 2 2 2 2 2 2\n",
      " 2 2]\n",
      "With 0,1,2 being: ['setosa' 'versicolor' 'virginica']\n",
      "\n",
      "Feature names for our 4 features per sample:\n",
      " ['sepal length (cm)', 'sepal width (cm)', 'petal length (cm)', 'petal width (cm)']\n"
     ]
    }
   ],
   "source": [
    "# Explore dataset\n",
    "\n",
    "print(\"Dataset keys:\", iris.keys())\n",
    "print(\"\\nShape of our data:\",iris.get('data').shape)\n",
    "print(\"\\nLabels for our samples:\",iris.get('target'))\n",
    "print(\"With 0,1,2 being:\",iris.get('target_names'))\n",
    "\n",
    "print(\"\\nFeature names for our 4 features per sample:\\n\",iris.get('feature_names'))\n"
   ]
  },
  {
   "attachments": {},
   "cell_type": "markdown",
   "metadata": {},
   "source": [
    "## Create dataframe and statistics"
   ]
  },
  {
   "cell_type": "code",
   "execution_count": 7,
   "metadata": {},
   "outputs": [
    {
     "name": "stdout",
     "output_type": "stream",
     "text": [
      "Iris dataframe:\n",
      "      sepal length (cm)  sepal width (cm)  petal length (cm)  petal width (cm)\n",
      "0                  5.1               3.5                1.4               0.2\n",
      "1                  4.9               3.0                1.4               0.2\n",
      "2                  4.7               3.2                1.3               0.2\n",
      "3                  4.6               3.1                1.5               0.2\n",
      "4                  5.0               3.6                1.4               0.2\n",
      "..                 ...               ...                ...               ...\n",
      "145                6.7               3.0                5.2               2.3\n",
      "146                6.3               2.5                5.0               1.9\n",
      "147                6.5               3.0                5.2               2.0\n",
      "148                6.2               3.4                5.4               2.3\n",
      "149                5.9               3.0                5.1               1.8\n",
      "\n",
      "[150 rows x 4 columns]\n",
      "\n",
      "Statistics of our dataframe:\n",
      "        sepal length (cm)  sepal width (cm)  petal length (cm)  \\\n",
      "count         150.000000        150.000000         150.000000   \n",
      "mean            5.843333          3.057333           3.758000   \n",
      "std             0.828066          0.435866           1.765298   \n",
      "min             4.300000          2.000000           1.000000   \n",
      "25%             5.100000          2.800000           1.600000   \n",
      "50%             5.800000          3.000000           4.350000   \n",
      "75%             6.400000          3.300000           5.100000   \n",
      "max             7.900000          4.400000           6.900000   \n",
      "\n",
      "       petal width (cm)  \n",
      "count        150.000000  \n",
      "mean           1.199333  \n",
      "std            0.762238  \n",
      "min            0.100000  \n",
      "25%            0.300000  \n",
      "50%            1.300000  \n",
      "75%            1.800000  \n",
      "max            2.500000  \n"
     ]
    }
   ],
   "source": [
    "# Store ‘data’ and ‘features_names’ in distinct variables\n",
    "data_iris = iris.get('data')\n",
    "features_names_iris = iris.get('feature_names')\n",
    "\n",
    "# Store into a panda dataframe\n",
    "dataframe_iris = pd.DataFrame(data_iris, columns=features_names_iris)\n",
    "\n",
    "print(\"Iris dataframe:\\n\", dataframe_iris)\n",
    "\n",
    "dataframe_statistics = dataframe_iris.describe()\n",
    "\n",
    "print(\"\\nStatistics of our dataframe:\\n\",dataframe_statistics)"
   ]
  },
  {
   "attachments": {},
   "cell_type": "markdown",
   "metadata": {},
   "source": [
    "## Extract first 50 rows"
   ]
  },
  {
   "cell_type": "code",
   "execution_count": 8,
   "metadata": {},
   "outputs": [],
   "source": [
    "first_50_rows = dataframe_iris[:50]"
   ]
  },
  {
   "attachments": {},
   "cell_type": "markdown",
   "metadata": {},
   "source": [
    "## Are there any extreme sepal length values?"
   ]
  },
  {
   "cell_type": "code",
   "execution_count": 19,
   "metadata": {},
   "outputs": [],
   "source": [
    "mean = dataframe_statistics.get(features_names_iris[0])[1]\n",
    "std = dataframe_statistics.get(features_names_iris[0])[2]\n",
    "sum((dataframe_iris.get(features_names_iris[0])-mean)/std > 3.9)"
   ]
  },
  {
   "attachments": {},
   "cell_type": "markdown",
   "metadata": {},
   "source": [
    "## Create a function to automate the process of finding extreme values from a PD column"
   ]
  },
  {
   "cell_type": "code",
   "execution_count": 56,
   "metadata": {},
   "outputs": [],
   "source": [
    "def find_extreme_values(dataframe, column_name):\n",
    "    \"\"\" Find if a specific PD column has extreme values\n",
    "    Input: Panda dataframe and colum name for the column to check.\n",
    "    Return: Number of extreme values.\n",
    "    \"\"\"\n",
    "    dataframe_statistics = dataframe.describe()\n",
    "    mean = dataframe_statistics.get(column_name)[1]\n",
    "    std = dataframe_statistics.get(column_name)[2]\n",
    "    print(\"Mean and std values for\",column_name,\":\", mean,std)\n",
    "    return sum((dataframe.get(column_name)-mean)/std > 3.9)"
   ]
  },
  {
   "cell_type": "code",
   "execution_count": 57,
   "metadata": {},
   "outputs": [
    {
     "name": "stdout",
     "output_type": "stream",
     "text": [
      "Mean and std values for sepal length (cm) : 5.843333333333335 0.8280661279778629\n",
      "Number of extreme values for column sepal length (cm) : 0\n",
      "Mean and std values for sepal width (cm) : 3.057333333333334 0.435866284936698\n",
      "Number of extreme values for column sepal width (cm) : 0\n",
      "Mean and std values for petal length (cm) : 3.7580000000000027 1.7652982332594667\n",
      "Number of extreme values for column petal length (cm) : 0\n",
      "Mean and std values for petal width (cm) : 1.199333333333334 0.7622376689603465\n",
      "Number of extreme values for column petal width (cm) : 0\n"
     ]
    }
   ],
   "source": [
    "# Use the function for all other features....\n",
    "\n",
    "for i in range(4):\n",
    "    print(\"Number of extreme values for column\",features_names_iris[i],\":\", find_extreme_values(dataframe_iris,features_names_iris[i]))"
   ]
  },
  {
   "attachments": {},
   "cell_type": "markdown",
   "metadata": {},
   "source": [
    "## Read about the boxplot function in matplotlib to get familiar with python documentation. \n",
    "### What does it tell us? https://matplotlib.org/stable/api/_as_gen/matplotlib.pyplot.boxplot.html\n",
    "\n",
    "The doc tells us this is a function to display the statistics of our 1-D (or 2-D) data set.\n",
    "\n",
    "A line shows the median of our data and the box starts and ends at the first and third quantile of our data respectively.\n",
    "\n",
    "It shows flier points for values outside of this Q1-Q3 range (outliers)."
   ]
  },
  {
   "cell_type": "code",
   "execution_count": 78,
   "metadata": {},
   "outputs": [
    {
     "data": {
      "text/plain": [
       "{'whiskers': [<matplotlib.lines.Line2D at 0x7f9de9c6b0d0>,\n",
       "  <matplotlib.lines.Line2D at 0x7f9de9c6b510>,\n",
       "  <matplotlib.lines.Line2D at 0x7f9de9c5f650>,\n",
       "  <matplotlib.lines.Line2D at 0x7f9de9c5fb50>,\n",
       "  <matplotlib.lines.Line2D at 0x7f9de9c59b10>,\n",
       "  <matplotlib.lines.Line2D at 0x7f9de9c59f50>,\n",
       "  <matplotlib.lines.Line2D at 0x7f9dc0276710>,\n",
       "  <matplotlib.lines.Line2D at 0x7f9dc02761d0>],\n",
       " 'caps': [<matplotlib.lines.Line2D at 0x7f9de9c6bcd0>,\n",
       "  <matplotlib.lines.Line2D at 0x7f9de9c88310>,\n",
       "  <matplotlib.lines.Line2D at 0x7f9de9c5fe50>,\n",
       "  <matplotlib.lines.Line2D at 0x7f9de9c5fad0>,\n",
       "  <matplotlib.lines.Line2D at 0x7f9de9c59410>,\n",
       "  <matplotlib.lines.Line2D at 0x7f9dc027b150>,\n",
       "  <matplotlib.lines.Line2D at 0x7f9dc0276590>,\n",
       "  <matplotlib.lines.Line2D at 0x7f9dc0276210>],\n",
       " 'boxes': [<matplotlib.lines.Line2D at 0x7f9de9c6b710>,\n",
       "  <matplotlib.lines.Line2D at 0x7f9de9c88cd0>,\n",
       "  <matplotlib.lines.Line2D at 0x7f9de9c59fd0>,\n",
       "  <matplotlib.lines.Line2D at 0x7f9dc027bd90>],\n",
       " 'medians': [<matplotlib.lines.Line2D at 0x7f9de9c88fd0>,\n",
       "  <matplotlib.lines.Line2D at 0x7f9de9c5f710>,\n",
       "  <matplotlib.lines.Line2D at 0x7f9dc027ba10>,\n",
       "  <matplotlib.lines.Line2D at 0x7f9dc026a410>],\n",
       " 'fliers': [<matplotlib.lines.Line2D at 0x7f9de9c88910>,\n",
       "  <matplotlib.lines.Line2D at 0x7f9de9c59190>,\n",
       "  <matplotlib.lines.Line2D at 0x7f9dc027b410>,\n",
       "  <matplotlib.lines.Line2D at 0x7f9dc026a0d0>],\n",
       " 'means': []}"
      ]
     },
     "execution_count": 78,
     "metadata": {},
     "output_type": "execute_result"
    },
    {
     "data": {
      "image/png": "[encoded data removed]",
      "text/plain": [
       "<Figure size 640x480 with 1 Axes>"
      ]
     },
     "metadata": {},
     "output_type": "display_data"
    }
   ],
   "source": [
    "fig1, ax1 = plt.subplots()\n",
    "ax1.set_title('Plot of the statistics of the 4 Iris features with Median highlighted')\n",
    "ax1.boxplot(dataframe_iris.get(features_names_iris), widths=0.4, labels=features_names_iris)"
   ]
  },
  {
   "cell_type": "code",
   "execution_count": 101,
   "metadata": {},
   "outputs": [],
   "source": [
    "# Save dataframe to csv and image to png\n",
    "\n",
    "dataframe_iris.to_csv('iris_dataframe.csv')\n",
    "fig1.savefig('figure_data_iris.png')"
   ]
  },
  {
   "cell_type": "code",
   "execution_count": null,
   "metadata": {},
   "outputs": [],
   "source": []
  },
  {
   "cell_type": "code",
   "execution_count": null,
   "metadata": {},
   "outputs": [],
   "source": []
  },
  {
   "cell_type": "code",
   "execution_count": null,
   "metadata": {},
   "outputs": [],
   "source": []
  },
  {
   "cell_type": "code",
   "execution_count": null,
   "metadata": {},
   "outputs": [],
   "source": []
  },
  {
   "cell_type": "code",
   "execution_count": null,
   "metadata": {},
   "outputs": [],
   "source": []
  }
 ],
 "metadata": {
  "kernelspec": {
   "display_name": "brainhack_env",
   "language": "python",
   "name": "python3"
  },
  "language_info": {
   "codemirror_mode": {
    "name": "ipython",
    "version": 3
   },
   "file_extension": ".py",
   "mimetype": "text/x-python",
   "name": "python",
   "nbconvert_exporter": "python",
   "pygments_lexer": "ipython3",
   "version": "3.7.16"
  },
  "orig_nbformat": 4
 },
 "nbformat": 4,
 "nbformat_minor": 2
}
