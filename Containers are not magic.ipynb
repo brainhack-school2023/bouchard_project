{
 "cells": [
  {
   "cell_type": "markdown",
   "metadata": {
    "slideshow": {
     "slide_type": "slide"
    }
   },
   "source": [
    " ![Title image](./title.jpg \"Title\")"
   ]
  },
  {
   "cell_type": "markdown",
   "metadata": {
    "slideshow": {
     "slide_type": "slide"
    }
   },
   "source": [
    "# Week 1 strikes back\n",
    "\n",
    "In Week 1, you learned why and how to use Docker and Singularity containers during [Peer's wonderful lecture](https://github.com/neurodatascience/course-materials-2020/blob/master/lectures/12-may/02-intro-to-containerization/neurodatascience_virtualization_2020.pdf). Now you can't work without containers, they're really magic! \n",
    "\n",
    "![CommitStrip](https://www.commitstrip.com/wp-content/uploads/2017/02/Strip-Ou-sont-les-tests-unitaires-english650-final.jpg \"It's magic\")\n",
    "(only the last box of this is actually relevant, the first ones are a good intro to tomorrow's presentation)\n"
   ]
  },
  {
   "cell_type": "markdown",
   "metadata": {
    "slideshow": {
     "slide_type": "slide"
    }
   },
   "source": [
    "# Goals\n",
    "* Get to know more about the system (file system and processes)\n",
    "* Understand that containers aren't magic\n",
    "\n",
    "# Method\n",
    "\n",
    "* We will build \"mocker\", a tiny container engine\n",
    "* This guy will help us a lot\n",
    "\n",
    "<a href=\"https://www.kernel.org\"><img src=\"https://upload.wikimedia.org/wikipedia/commons/thumb/3/35/Tux.svg/440px-Tux.svg.png\" alt=\"Tux\" style=\"width: 100px;\"/></a>\n",
    "\n",
    "People usually call it \"the system\" or \"the kernel\", you can get its real name by typing `uname -a` in a terminal:"
   ]
  },
  {
   "cell_type": "code",
   "execution_count": null,
   "metadata": {
    "slideshow": {
     "slide_type": "fragment"
    }
   },
   "outputs": [],
   "source": [
    "!uname -a"
   ]
  },
  {
   "cell_type": "markdown",
   "metadata": {
    "slideshow": {
     "slide_type": "fragment"
    }
   },
   "source": [
    "(its conversation is limited, it only knows \"system calls\" such as `open`)\n",
    "\n",
    "\n",
    "# Note\n",
    "This notebook mostly uses `bash` commands, some of them requiring `sudo`, some of them being interactive. In this presentation we'll mostly run them in a terminal. _Remove the leading ! before copy-pasting the commands._"
   ]
  },
  {
   "cell_type": "markdown",
   "metadata": {
    "slideshow": {
     "slide_type": "slide"
    }
   },
   "source": [
    "# Resources\n",
    "\n",
    "![How containers work](https://jvns.ca/images/containers-cover.jpg \"https://wizardzines.com/zines/containers\")\n",
    "(available at https://wizardzines.com/zines/containers for $12)\n",
    "* [\"What even is a container?\"](https://jvns.ca/blog/2016/10/10/what-even-is-a-container),  Julia Evans\n",
    "* `man unshare`, `man cgroups`"
   ]
  },
  {
   "cell_type": "markdown",
   "metadata": {
    "slideshow": {
     "slide_type": "slide"
    }
   },
   "source": [
    "# __mocker v0.1__: replacing root directories with chroot\n",
    "\n",
    "\n",
    "## File system mounts\n",
    "\n",
    "A file system provides a usable interface to storage devices, organized in files and directories. In Linux, file systems need to be appended, a.k.a _mounted_, under the `/` \"root\" directory structure to be accessible. The location at which a file system is mounted is called a _mount point_. Mount points can be listed using command `df`:"
   ]
  },
  {
   "cell_type": "code",
   "execution_count": null,
   "metadata": {
    "slideshow": {
     "slide_type": "fragment"
    }
   },
   "outputs": [],
   "source": [
    "!df -hT"
   ]
  },
  {
   "cell_type": "markdown",
   "metadata": {
    "slideshow": {
     "slide_type": "slide"
    }
   },
   "source": [
    "## File system types\n",
    "\n",
    "There are different types of file systems, such as:\n",
    "* `tmpfs`: in-memory file system, fast but usually small, doesn't survive reboot.\n",
    "* `ext4`: current default for Linux hard disks\n",
    "* `vfat`: legacy\n",
    "* `squashfs`: a compressed file-system, used in particular by Singularity\n",
    "* `nfs`: network file system, to mount files from  remote servers\n",
    "* `lustre`: another network file system, used in HPC centers"
   ]
  },
  {
   "cell_type": "markdown",
   "metadata": {
    "slideshow": {
     "slide_type": "fragment"
    }
   },
   "source": [
    "OK, this is not _really_ relevant to containers but I thought you might be interested :)"
   ]
  },
  {
   "cell_type": "markdown",
   "metadata": {
    "slideshow": {
     "slide_type": "fragment"
    }
   },
   "source": [
    "Some directories in the file system are particularly important for applications:\n",
    "* `/bin`: contains many useful programs such as `ls`, `cd`, etc\n",
    "* `/etc`: contains configuration files\n",
    "* `/lib`: contains software libraries\n",
    "* `/proc`: contains information about processes, mounts, etc"
   ]
  },
  {
   "cell_type": "markdown",
   "metadata": {
    "slideshow": {
     "slide_type": "slide"
    }
   },
   "source": [
    "## chroot: changing the root directory\n",
    "\n",
    "chroot is a system call to change the root directory from `/` to a custom directory. It gives the illusion that a complete new file hierarchy was deployed, in isolation from the initial environment. We will use `chroot` to provide the illusion that our computer runs under a different root directory. Programs executed in this environment will come from the new root (`/bin`), will use different libraries (`/lib`), and will use different configurations (`/etc`).\n",
    "\n",
    "First, let's download a new file system hierarchy and pretend that it's our container image:"
   ]
  },
  {
   "cell_type": "code",
   "execution_count": null,
   "metadata": {
    "slideshow": {
     "slide_type": "fragment"
    }
   },
   "outputs": [],
   "source": [
    "!wget bit.ly/fish-container -O fish.tar # download a tar archive file containing a full directory hierarchy\n",
    "!mkdir -p container-root && (cd container-root && tar xf ../fish.tar) # unextract archive in directory container-root\n"
   ]
  },
  {
   "cell_type": "markdown",
   "metadata": {
    "slideshow": {
     "slide_type": "slide"
    }
   },
   "source": [
    "We can now use chroot to change our root file system to the root of our container image: "
   ]
  },
  {
   "cell_type": "code",
   "execution_count": null,
   "metadata": {
    "slideshow": {
     "slide_type": "fragment"
    }
   },
   "outputs": [],
   "source": [
    "!sudo chroot $PWD/container-root /bin/sh -c \"/bin/mount -t proc proc /proc && /bin/sh\"\n"
   ]
  },
  {
   "cell_type": "markdown",
   "metadata": {
    "slideshow": {
     "slide_type": "fragment"
    }
   },
   "source": [
    "It looks like we're running on a different computer! Changing the root directory is a key concept of containers. "
   ]
  },
  {
   "cell_type": "markdown",
   "metadata": {
    "slideshow": {
     "slide_type": "slide"
    }
   },
   "source": [
    "# __mocker v0.2__: isolating processes\n",
    "\n",
    "There are in fact many indices showing that the \"chrooted\" environment is still running on the \"host\" computer. To start with, we can still see and interact with other programs, or _processes_ on the host.\n",
    "\n",
    "## Processes\n",
    "A process is a running program. It has a number (ID) and is often associated with a command. Current processes can be listed with command `ps`. `top` and `htop` are other useful commands to list proceses."
   ]
  },
  {
   "cell_type": "code",
   "execution_count": null,
   "metadata": {
    "slideshow": {
     "slide_type": "fragment"
    }
   },
   "outputs": [],
   "source": [
    "!ps aux"
   ]
  },
  {
   "cell_type": "markdown",
   "metadata": {
    "slideshow": {
     "slide_type": "slide"
    }
   },
   "source": [
    "## Process trees\n",
    "\n",
    "All processes but one have a parent which is generally the program from which the process was launched. Processes might also create child processes, through a system call called _fork_. The process tree can be viewed using `pstree` or `htop -t`:"
   ]
  },
  {
   "cell_type": "code",
   "execution_count": null,
   "metadata": {
    "slideshow": {
     "slide_type": "fragment"
    }
   },
   "outputs": [],
   "source": [
    "!pstree"
   ]
  },
  {
   "cell_type": "markdown",
   "metadata": {
    "slideshow": {
     "slide_type": "slide"
    }
   },
   "source": [
    "## Interacting with processes\n",
    "\n",
    "The `kill` command can be used to send signals to processes, using their PID. The default signal sent by `kill` is `TERM`, which terminates the process.\n",
    "\n",
    "`[demo in terminal]`\n",
    "\n",
    "Using these commands from the chrooted environment, it's clear that __mocker v0.1__ does not provide a complete illusion that we're on a different computer."
   ]
  },
  {
   "cell_type": "markdown",
   "metadata": {
    "slideshow": {
     "slide_type": "slide"
    }
   },
   "source": [
    "## Isolating processes through namespaces\n",
    "\n",
    "Linux namespaces provide a way to isolate processes (and more) from the rest of the host. Namespaces are a key feature to enable containers. The `unshare` command can be used to create namespaces."
   ]
  },
  {
   "cell_type": "code",
   "execution_count": null,
   "metadata": {
    "slideshow": {
     "slide_type": "fragment"
    }
   },
   "outputs": [],
   "source": [
    "!sudo unshare -fp chroot $PWD/container-root /bin/sh -c \"/bin/mount -t proc proc /proc && /bin/sh\""
   ]
  },
  {
   "cell_type": "markdown",
   "metadata": {
    "slideshow": {
     "slide_type": "fragment"
    }
   },
   "source": [
    "Now only the processes started from  our container are visible. We can't kill or even see the other processes on the host. Our container starts looking like a different computer now. But it still shares network and resources (CPU, memory) with the host."
   ]
  },
  {
   "cell_type": "markdown",
   "metadata": {
    "slideshow": {
     "slide_type": "slide"
    }
   },
   "source": [
    "## Isolating network through namespaces\n",
    "\n",
    "Namespaces can also isolate network devices from the container. It can be useful if you want to make sure that the container doesn't send any information over the network:\n",
    "\n",
    "### Without network isolation\n",
    "\n",
    "Let's try pinging IP address 172.217.13.195 from the __mocker v0.2__ container (it works).\n",
    "\n",
    "### With network isolation (__mocker v0.2.1__)\n",
    "\n",
    "We can use an extra option of `unshare` to unshare the network with our containerized process:\n",
    "\n"
   ]
  },
  {
   "cell_type": "code",
   "execution_count": null,
   "metadata": {
    "slideshow": {
     "slide_type": "fragment"
    }
   },
   "outputs": [],
   "source": [
    "!sudo unshare -fpn chroot $PWD/container-root /bin/sh -c \"/bin/mount -t proc proc /proc && /bin/sh\""
   ]
  },
  {
   "cell_type": "markdown",
   "metadata": {
    "slideshow": {
     "slide_type": "fragment"
    }
   },
   "source": [
    "Let's try pinging IP address 172.217.13.195 from the __mocker v0.2.1__ container (network is unreachable).\n"
   ]
  },
  {
   "cell_type": "markdown",
   "metadata": {
    "slideshow": {
     "slide_type": "fragment"
    }
   },
   "source": [
    "Namespaces can also be used to isolate:\n",
    "* Mounts\n",
    "* Hostname\n",
    "* ... and more"
   ]
  },
  {
   "cell_type": "markdown",
   "metadata": {
    "slideshow": {
     "slide_type": "slide"
    }
   },
   "source": [
    "### Note\n",
    "\n",
    "We're still ta"
   ]
  },
  {
   "cell_type": "markdown",
   "metadata": {
    "slideshow": {
     "slide_type": "slide"
    }
   },
   "source": [
    "# __mocker v0.3__: adding memory restrictions with cgroups\n",
    "\n",
    "Maybe you don't want your memory-hungry containerized application to bloat your computer. Linux _cgroups_ (control groups) can allocate restricted amounts of memory (but also CPU and other resources) to a group of processes.\n",
    "\n",
    "For instance, using cgroups, we can make sure that our container will only be allowed to use 10MB of memory. \n",
    "\n",
    "First, let's create a text file of 100M:\n",
    "\n"
   ]
  },
  {
   "cell_type": "code",
   "execution_count": null,
   "metadata": {
    "slideshow": {
     "slide_type": "fragment"
    }
   },
   "outputs": [],
   "source": [
    "!base64 /dev/urandom | head -c 100000000 > container-root/file.txt"
   ]
  },
  {
   "cell_type": "markdown",
   "metadata": {
    "slideshow": {
     "slide_type": "fragment"
    }
   },
   "source": [
    "and make sure that we can read it from our __mocker v0.2.1__ container (assuming that the host has more than 100M of available RAM):"
   ]
  },
  {
   "cell_type": "code",
   "execution_count": null,
   "metadata": {
    "slideshow": {
     "slide_type": "fragment"
    }
   },
   "outputs": [],
   "source": [
    "a=$(cat file.txt)"
   ]
  },
  {
   "cell_type": "markdown",
   "metadata": {
    "slideshow": {
     "slide_type": "slide"
    }
   },
   "source": [
    "Now let's create a cgroup and give it only 10MB of memory:\n"
   ]
  },
  {
   "cell_type": "code",
   "execution_count": null,
   "metadata": {
    "slideshow": {
     "slide_type": "fragment"
    }
   },
   "outputs": [],
   "source": [
    "!sudo cgcreate -g \"memory:mygroup\"\n",
    "!sudo cgset -r memory.limit_in_bytes=10000000 mygroup # 10 MB"
   ]
  },
  {
   "cell_type": "markdown",
   "metadata": {
    "slideshow": {
     "slide_type": "slide"
    }
   },
   "source": [
    "Let's now assign our container to the cgroup, resulting in __mocker v0.3__:"
   ]
  },
  {
   "cell_type": "code",
   "execution_count": null,
   "metadata": {
    "slideshow": {
     "slide_type": "fragment"
    }
   },
   "outputs": [],
   "source": [
    "!sudo cgexec -g \"memory:mygroup\" unshare -fpn chroot $PWD/container-root /bin/sh -c \"/bin/mount -t proc proc /proc && /bin/sh\""
   ]
  },
  {
   "cell_type": "markdown",
   "metadata": {
    "slideshow": {
     "slide_type": "fragment"
    }
   },
   "source": [
    "Let's try to read our 100M file from the container: it crashes!\n",
    "\n",
    "cgroups allow the Linux kernel to restrict the amount of resources that processes can use. cgroups can also be used to restrict the amount of CPU used by a group of processes, which can be very useful when multiple processes share the host (server, HPC). They are the third pillar of a containerization system."
   ]
  },
  {
   "cell_type": "markdown",
   "metadata": {
    "slideshow": {
     "slide_type": "slide"
    }
   },
   "source": [
    "# Conclusion\n",
    "\n",
    "Containers leverage the following Linux features:\n",
    "* `chroot`, to change the root directory to an archive containing the \"container image\"\n",
    "* `namespaces`, to isolate processes, network, users, mounts and hostname from the host\n",
    "* `cgroups`, to restrict the amount of CPU and RAM that processes can use\n",
    "\n",
    "They also build on:\n",
    "* overlay file systems, to build images with multiple layers (e.g., base OS + applications)\n",
    "* `seccomp`, to limit system calls that a process is allowed to do\n",
    "\n",
    "\n",
    "And now, let's play some [flashcards](https://flashcards.wizardzines.com/container-basics)\n"
   ]
  }
 ],
 "metadata": {
  "celltoolbar": "Slideshow",
  "kernelspec": {
   "display_name": "Python 3",
   "language": "python",
   "name": "python3"
  },
  "language_info": {
   "codemirror_mode": {
    "name": "ipython",
    "version": 3
   },
   "file_extension": ".py",
   "mimetype": "text/x-python",
   "name": "python",
   "nbconvert_exporter": "python",
   "pygments_lexer": "ipython3",
   "version": "3.7.6"
  }
 },
 "nbformat": 4,
 "nbformat_minor": 2
}
